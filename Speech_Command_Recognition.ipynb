{
 "cells": [
  {
   "cell_type": "markdown",
   "metadata": {
    "colab_type": "text",
    "id": "0c7Qqj_nPX70"
   },
   "source": [
    "# Load Tensorflow and some essential python modules. "
   ]
  },
  {
   "cell_type": "code",
   "execution_count": 0,
   "metadata": {
    "colab": {},
    "colab_type": "code",
    "id": "4t8bwkZTcuPd"
   },
   "outputs": [],
   "source": [
    "import tensorflow as tf\n",
    "import numpy as np\n",
    "import time\n",
    "import matplotlib.pyplot as plt\n",
    "from sklearn.model_selection import train_test_split\n",
    "plt.style.use('default')\n",
    "import librosa\n",
    "import pickle"
   ]
  },
  {
   "cell_type": "code",
   "execution_count": 0,
   "metadata": {
    "colab": {
     "base_uri": "https://localhost:8080/",
     "height": 34
    },
    "colab_type": "code",
    "id": "s2WckGRc4VXC",
    "outputId": "38ec709c-ecb8-48b2-eff1-1d3c2735bb86"
   },
   "outputs": [
    {
     "name": "stdout",
     "output_type": "stream",
     "text": [
      "Drive already mounted at /content/drive/; to attempt to forcibly remount, call drive.mount(\"/content/drive/\", force_remount=True).\n"
     ]
    }
   ],
   "source": [
    "from google.colab import drive\n",
    "drive.mount('/content/drive/')"
   ]
  },
  {
   "cell_type": "code",
   "execution_count": 0,
   "metadata": {
    "colab": {
     "base_uri": "https://localhost:8080/",
     "height": 34
    },
    "colab_type": "code",
    "id": "xxtzK4vF4YiZ",
    "outputId": "d7998d3b-f140-4b7c-db6b-799af09cd53e"
   },
   "outputs": [
    {
     "name": "stdout",
     "output_type": "stream",
     "text": [
      "/content\n"
     ]
    }
   ],
   "source": [
    "!pwd"
   ]
  },
  {
   "cell_type": "markdown",
   "metadata": {
    "colab_type": "text",
    "id": "GWD3FiWTCoC6"
   },
   "source": [
    "# Load Training audio files"
   ]
  },
  {
   "cell_type": "code",
   "execution_count": 0,
   "metadata": {
    "colab": {},
    "colab_type": "code",
    "id": "5L6A9BeOElwf"
   },
   "outputs": [],
   "source": [
    "def read_value(file,flag=1):\n",
    "    s, sr=librosa.load(file, sr=None, res_type='kaiser_fast')\n",
    "    # Downsample to 8 KHz\n",
    "    if flag == -5:\n",
    "      s = librosa.resample(s, sr, 8000)\n",
    "    X = librosa.stft(s, n_fft=1024, hop_length=512)\n",
    "    X_ = np.abs(X)\n",
    "    if flag == 1:\n",
    "      # return absolute magnititude and frequency data\n",
    "      return X_, X\n",
    "    if flag == 0:\n",
    "      # only return absolute magnititude\n",
    "      return X_\n",
    "    if flag == -1:\n",
    "      # only return absolute magnititude in one dimensional vector\n",
    "      return X_.reshape(-1)\n",
    "    if flag == -2:\n",
    "      # only retrun 2D absolute magnititude as two dimensional vector (513,20)\n",
    "      # data either trimmed or padded to length size along the specified axis\n",
    "      return librosa.util.fix_length(X_, 20, axis=1)\n",
    "    if flag == -3:\n",
    "      # only retrun 2D absolute magnititude as two dimensional vector (513,32)\n",
    "      # data either trimmed or padded to length size along the specified axis\n",
    "      return librosa.util.fix_length(X_, 32, axis=1)\n",
    "    if flag == -4:\n",
    "      # only retrun 2D complex magnititude as two dimensional vector (513,32)\n",
    "      # data either trimmed or padded to length size along the specified axis\n",
    "      return librosa.util.fix_length(X, 32, axis=1)\n",
    "    if flag == -5:\n",
    "      # only retrun 2D absolute magnititude as two dimensional vector (513,16)\n",
    "      # data either trimmed or padded to length size along the specified axis\n",
    "      return librosa.util.fix_length(X_, 16, axis=1)"
   ]
  },
  {
   "cell_type": "markdown",
   "metadata": {
    "colab_type": "text",
    "id": "CuyPIdvc_jjS"
   },
   "source": [
    "Ref:\n",
    "https://librosa.github.io/librosa/generated/librosa.core.resample.html"
   ]
  },
  {
   "cell_type": "code",
   "execution_count": 0,
   "metadata": {
    "colab": {
     "base_uri": "https://localhost:8080/",
     "height": 67
    },
    "colab_type": "code",
    "id": "_bUmW39cnhCP",
    "outputId": "84d7f68c-8796-46c2-b303-2b474baa29e8"
   },
   "outputs": [
    {
     "name": "stdout",
     "output_type": "stream",
     "text": [
      "raw absolute magnititude shape: (513, 32)\n",
      "reshape raw absolute magnititude as one dimensional vector: (16416,)\n",
      "only retrun 2D absolute magnititude as two dimensional vector shape: (513, 20)\n"
     ]
    }
   ],
   "source": [
    "x_file = \"./drive/My Drive/ENGR533/Final Project/Project/speech_commands_v0.01/bed/0a7c2a8d_nohash_0.wav\"\n",
    "test = read_value(x_file,flag=0)\n",
    "print('raw absolute magnititude shape:', test.shape)\n",
    "test = read_value(x_file,flag=-1)\n",
    "print('reshape raw absolute magnititude as one dimensional vector:', test.shape)\n",
    "test = read_value(x_file,flag=-2)\n",
    "print('only retrun 2D absolute magnititude as two dimensional vector shape:', test.shape)"
   ]
  },
  {
   "cell_type": "code",
   "execution_count": 0,
   "metadata": {
    "colab": {
     "base_uri": "https://localhost:8080/",
     "height": 34
    },
    "colab_type": "code",
    "id": "KcV0NWio9sCO",
    "outputId": "6cf98c28-a9d7-4c8e-b0c0-c7f45f3beee1"
   },
   "outputs": [
    {
     "data": {
      "text/plain": [
       "(513, 16)"
      ]
     },
     "execution_count": 6,
     "metadata": {
      "tags": []
     },
     "output_type": "execute_result"
    }
   ],
   "source": [
    "test = read_value(x_file,flag=-5)\n",
    "test.shape"
   ]
  },
  {
   "cell_type": "code",
   "execution_count": 0,
   "metadata": {
    "colab": {
     "base_uri": "https://localhost:8080/",
     "height": 235
    },
    "colab_type": "code",
    "id": "1MLaQRpJCOfx",
    "outputId": "e8fb338d-9457-4fd5-a9fb-9c70fdf2443f"
   },
   "outputs": [
    {
     "data": {
      "text/plain": [
       "array([[5.12491399e-03+0.j, 9.98343166e-05+0.j, 3.95671195e-05+0.j, ...,\n",
       "        4.26910585e-04+0.j, 6.91248977e-04+0.j, 2.63384078e-04+0.j],\n",
       "       [5.51866228e-03+0.j, 8.02878232e-04+0.j, 6.22904627e-04+0.j, ...,\n",
       "        2.75809376e-04+0.j, 6.91604742e-04+0.j, 2.68432312e-04+0.j],\n",
       "       [6.05890155e-03+0.j, 8.88471841e-04+0.j, 7.80837436e-04+0.j, ...,\n",
       "        6.27591624e-04+0.j, 4.14798735e-04+0.j, 3.44572734e-04+0.j],\n",
       "       ...,\n",
       "       [1.78576878e-03+0.j, 5.41919326e-06+0.j, 5.55274084e-07+0.j, ...,\n",
       "        1.22667589e-05+0.j, 1.00156858e-05+0.j, 8.74387933e-06+0.j],\n",
       "       [1.78326666e-03+0.j, 3.06325751e-06+0.j, 2.07171706e-06+0.j, ...,\n",
       "        2.11504266e-06+0.j, 4.10057419e-06+0.j, 5.43974011e-06+0.j],\n",
       "       [1.78279495e-03+0.j, 1.83094286e-07+0.j, 1.98928092e-06+0.j, ...,\n",
       "        2.57762053e-06+0.j, 4.63564993e-06+0.j, 2.28908084e-06+0.j]])"
      ]
     },
     "execution_count": 7,
     "metadata": {
      "tags": []
     },
     "output_type": "execute_result"
    }
   ],
   "source": [
    "temp = np.empty((1, 513, 16),dtype=complex)\n",
    "temp[0] = test\n",
    "temp[0]"
   ]
  },
  {
   "cell_type": "markdown",
   "metadata": {
    "colab_type": "text",
    "id": "hqnyHAH9raXl"
   },
   "source": [
    "# Construct training data and training labels"
   ]
  },
  {
   "cell_type": "markdown",
   "metadata": {
    "colab_type": "text",
    "id": "KaihdCBFqgFo"
   },
   "source": [
    "load training data list"
   ]
  },
  {
   "cell_type": "code",
   "execution_count": 0,
   "metadata": {
    "colab": {},
    "colab_type": "code",
    "id": "rCU22yN-re6J"
   },
   "outputs": [],
   "source": [
    "train_read = open('./drive/My Drive/ENGR533/Final Project/Project/speech_commands_v0.01/refine_training_list.txt','r')\n",
    "train_list = [line[:-1] for line in train_read.readlines()]"
   ]
  },
  {
   "cell_type": "markdown",
   "metadata": {
    "colab_type": "text",
    "id": "-D6Xt20ArZOF"
   },
   "source": [
    "Generating training labels and training data"
   ]
  },
  {
   "cell_type": "markdown",
   "metadata": {
    "colab_type": "text",
    "id": "sin_WEm5t644"
   },
   "source": [
    "Convert training data command to number, e.g., 'yes' --> '1' in a dictionary **label_dict**"
   ]
  },
  {
   "cell_type": "code",
   "execution_count": 0,
   "metadata": {
    "colab": {},
    "colab_type": "code",
    "id": "1Q2fFhld_1qo"
   },
   "outputs": [],
   "source": [
    "classes = ['yes', 'no', 'up', 'down', 'left', 'right', 'on', 'off', 'stop', 'go', 'unknown']"
   ]
  },
  {
   "cell_type": "code",
   "execution_count": 0,
   "metadata": {
    "colab": {},
    "colab_type": "code",
    "id": "WUjSznJWcks2"
   },
   "outputs": [],
   "source": [
    "def load_2_label(file_path,classes):\n",
    "  file_ = open(file_path,'r')\n",
    "  list_ = [line[:-1] for line in file_.readlines()]\n",
    "  l = len(list_)\n",
    "  n_classes = len(classes)\n",
    "  data_label = np.zeros((l,n_classes))\n",
    "  for i in range(l):\n",
    "    label = list_[i].split('/')[0]\n",
    "    if label in classes[:-1]:\n",
    "      index = classes.index(label)\n",
    "      data_label[i][index] = 1\n",
    "    else:\n",
    "      data_label[i][-1] = 1\n",
    "  return data_label"
   ]
  },
  {
   "cell_type": "code",
   "execution_count": 0,
   "metadata": {
    "colab": {},
    "colab_type": "code",
    "id": "4R3Lehd0fRcD"
   },
   "outputs": [],
   "source": [
    "train_file = './drive/My Drive/ENGR533/Final Project/Project/speech_commands_v0.01/refine_training_list.txt'\n",
    "train_label = load_2_label(train_file,classes)"
   ]
  },
  {
   "cell_type": "markdown",
   "metadata": {
    "colab_type": "text",
    "id": "VZmDBTUkwP5l"
   },
   "source": [
    "Convert training data audio file in matrix **train_data**"
   ]
  },
  {
   "cell_type": "code",
   "execution_count": 0,
   "metadata": {
    "colab": {},
    "colab_type": "code",
    "id": "Sds-ejFdPa1I"
   },
   "outputs": [],
   "source": [
    "train_data = np.load('./drive/My Drive/ENGR533/Final Project/Project/training_16_complex.npy')"
   ]
  },
  {
   "cell_type": "code",
   "execution_count": 0,
   "metadata": {
    "colab": {
     "base_uri": "https://localhost:8080/",
     "height": 50
    },
    "colab_type": "code",
    "id": "9Do5ixUF7U9k",
    "outputId": "8b4ef7cb-fe40-4efa-f299-8b51788cca6a"
   },
   "outputs": [
    {
     "name": "stdout",
     "output_type": "stream",
     "text": [
      "training data shape (20391, 513, 16)\n",
      "training label shape (20391, 11)\n"
     ]
    }
   ],
   "source": [
    "print('training data shape', train_data.shape)\n",
    "print('training label shape', train_label.shape)"
   ]
  },
  {
   "cell_type": "markdown",
   "metadata": {
    "colab_type": "text",
    "id": "SnvBmzxScetw"
   },
   "source": [
    "# Load validation and testing data files"
   ]
  },
  {
   "cell_type": "markdown",
   "metadata": {
    "colab_type": "text",
    "id": "ZBwiXHO5dtcJ"
   },
   "source": [
    "**Load validation data**"
   ]
  },
  {
   "cell_type": "code",
   "execution_count": 0,
   "metadata": {
    "colab": {},
    "colab_type": "code",
    "id": "OMUpMv5VdTnu"
   },
   "outputs": [],
   "source": [
    "valid_file = './drive/My Drive/ENGR533/Final Project/Project/speech_commands_v0.01/refine_validation_list.txt'\n",
    "valid_label = load_2_label(valid_file,classes)\n",
    "valid_data = np.load('./drive/My Drive/ENGR533/Final Project/Project/validation_16_complex.npy')"
   ]
  },
  {
   "cell_type": "markdown",
   "metadata": {
    "colab_type": "text",
    "id": "0nXwykCVdwVL"
   },
   "source": [
    "**Load testing data**"
   ]
  },
  {
   "cell_type": "code",
   "execution_count": 0,
   "metadata": {
    "colab": {},
    "colab_type": "code",
    "id": "OXYHLRFZdzdL"
   },
   "outputs": [],
   "source": [
    "test_file = './drive/My Drive/ENGR533/Final Project/Project/speech_commands_v0.01/refine_testing_list.txt'\n",
    "test_label = load_2_label(test_file,classes)\n",
    "test_data = np.load('./drive/My Drive/ENGR533/Final Project/Project/testing_16_complex.npy')"
   ]
  },
  {
   "cell_type": "code",
   "execution_count": 0,
   "metadata": {
    "colab": {
     "base_uri": "https://localhost:8080/",
     "height": 84
    },
    "colab_type": "code",
    "id": "jhwHbDmNcktJ",
    "outputId": "71eb40d8-cc3b-4093-a541-cbb86ca9c33a"
   },
   "outputs": [
    {
     "name": "stdout",
     "output_type": "stream",
     "text": [
      "validation data shape (2834, 513, 16)\n",
      "validation label shaope (2834, 11)\n",
      "testing data shape (2823, 513, 16)\n",
      "test label shaope (2823, 11)\n"
     ]
    }
   ],
   "source": [
    "print('validation data shape', valid_data.shape)\n",
    "print('validation label shaope', valid_label.shape)\n",
    "print('testing data shape', test_data.shape)\n",
    "print('test label shaope', test_label.shape)"
   ]
  },
  {
   "cell_type": "markdown",
   "metadata": {
    "colab_type": "text",
    "id": "-NERYaRYfStz"
   },
   "source": [
    "# Exploratorty data analysis (EDA)"
   ]
  },
  {
   "cell_type": "code",
   "execution_count": 0,
   "metadata": {
    "colab": {
     "base_uri": "https://localhost:8080/",
     "height": 202
    },
    "colab_type": "code",
    "id": "Ap1TGhvQ7LeJ",
    "outputId": "d09e30b6-f769-460a-888b-1a8dd6b6cfbd"
   },
   "outputs": [
    {
     "name": "stdout",
     "output_type": "stream",
     "text": [
      "Number of files: 1 1860 0.09121671325584817\n",
      "Number of files: 2 1853 0.09087342455004659\n",
      "Number of files: 3 1843 0.0903830121131872\n",
      "Number of files: 4 1842 0.09033397086950125\n",
      "Number of files: 5 1839 0.09018684713844344\n",
      "Number of files: 6 1852 0.09082438330636065\n",
      "Number of files: 7 1864 0.09141287823059192\n",
      "Number of files: 8 1839 0.09018684713844344\n",
      "Number of files: 9 1885 0.09244274434799667\n",
      "Number of files: 10 1861 0.09126575449953411\n",
      "Number of files: 11 1853 0.09087342455004659\n"
     ]
    }
   ],
   "source": [
    "for j in range(11):\n",
    "  counts = 0\n",
    "  for i in range(len(train_label)):\n",
    "    if train_label[i,j] == 1:\n",
    "      counts += 1\n",
    "  print('Number of files:',j+1,counts,counts/len(train_label))"
   ]
  },
  {
   "cell_type": "code",
   "execution_count": 0,
   "metadata": {
    "colab": {},
    "colab_type": "code",
    "id": "Gg2gdohrJJol"
   },
   "outputs": [],
   "source": [
    "from scipy.io import wavfile"
   ]
  },
  {
   "cell_type": "code",
   "execution_count": 0,
   "metadata": {
    "colab": {
     "base_uri": "https://localhost:8080/",
     "height": 450
    },
    "colab_type": "code",
    "id": "i2CmyuZNLz1r",
    "outputId": "87d112da-4c21-47b7-f28e-bcc2d6da385b"
   },
   "outputs": [
    {
     "data": {
      "text/plain": [
       "[<matplotlib.lines.Line2D at 0x7fcd49463b38>]"
      ]
     },
     "execution_count": 18,
     "metadata": {
      "tags": []
     },
     "output_type": "execute_result"
    },
    {
     "data": {
      "image/png": "[encoded data removed]",
      "text/plain": [
       "<Figure size 640x480 with 1 Axes>"
      ]
     },
     "metadata": {
      "tags": []
     },
     "output_type": "display_data"
    }
   ],
   "source": [
    "samplerate, test_sound = wavfile.read(x_file)\n",
    "plt.plot(test_sound)"
   ]
  },
  {
   "cell_type": "markdown",
   "metadata": {
    "colab_type": "text",
    "id": "LM0_lpKSfdN5"
   },
   "source": [
    "# Data augmentation"
   ]
  },
  {
   "cell_type": "code",
   "execution_count": 0,
   "metadata": {
    "colab": {},
    "colab_type": "code",
    "id": "luJ-wpaNrYcN"
   },
   "outputs": [],
   "source": [
    "import pickle"
   ]
  },
  {
   "cell_type": "code",
   "execution_count": 0,
   "metadata": {
    "colab": {},
    "colab_type": "code",
    "id": "UA4K3ZlIraT6"
   },
   "outputs": [],
   "source": [
    "with open('./drive/My Drive/ENGR533/Final Project/Project/Noise.pkl', 'rb') as f:\n",
    "    Noise = pickle.load(f)"
   ]
  },
  {
   "cell_type": "code",
   "execution_count": 0,
   "metadata": {
    "colab": {},
    "colab_type": "code",
    "id": "dWOcSRc-gZFK"
   },
   "outputs": [],
   "source": [
    "# Noise=[None]*1200\n",
    "# for i in range(1200):\n",
    "#   s, sr=librosa.load('./drive/My Drive/ENGR533/Final Project/noise/'+'trn'+'{0:04}'.format(i) + '.wav', sr=None)\n",
    "#   Noise[i]=librosa.stft(s, n_fft=1024, hop_length=512)\n",
    "#   print(i)\n",
    "\n",
    "def addnoise(xbatch,flag = 0):\n",
    "  # xbatch : (? , 513, 32)\n",
    "    global Noise # Noise : (1200 , 513, ?)\n",
    "  \n",
    "    lengthx = np.shape(xbatch)[0]\n",
    "    if flag == 0:\n",
    "      for i in range(lengthx):\n",
    "        rnd = np.random.randint(1200)\n",
    "        lengthy = np.shape(Noise[rnd])[1]\n",
    "        rnd2 = np.random.randint(lengthy-33)\n",
    "        xbatch[i] = xbatch[i]+ 0.2*Noise[rnd][:,rnd2:rnd2+16]\n",
    "      return np.abs(xbatch)\n",
    "    else:\n",
    "      return np.abs(xbatch)"
   ]
  },
  {
   "cell_type": "code",
   "execution_count": 0,
   "metadata": {
    "colab": {},
    "colab_type": "code",
    "id": "KOzIOP54swmo"
   },
   "outputs": [],
   "source": [
    "train_data = addnoise(train_data,flag = 0)"
   ]
  },
  {
   "cell_type": "code",
   "execution_count": 0,
   "metadata": {
    "colab": {},
    "colab_type": "code",
    "id": "GrGRN7VXRrd3"
   },
   "outputs": [],
   "source": [
    "valid_data = addnoise(valid_data,flag = 0)\n",
    "test_data = addnoise(test_data,flag = 0)"
   ]
  },
  {
   "cell_type": "code",
   "execution_count": 0,
   "metadata": {
    "colab": {},
    "colab_type": "code",
    "id": "_IytYM_M_OSf"
   },
   "outputs": [],
   "source": [
    "del Noise"
   ]
  },
  {
   "cell_type": "markdown",
   "metadata": {
    "colab_type": "text",
    "id": "JyAgjaXzrKBK"
   },
   "source": [
    "# Build baseline classifier: fully connected neural network"
   ]
  },
  {
   "cell_type": "markdown",
   "metadata": {
    "colab_type": "text",
    "id": "RrUM9olqPCrD"
   },
   "source": [
    " **The neural network includes 5 hidden layers, each layer includes 1024 hidden units.**\n"
   ]
  },
  {
   "cell_type": "markdown",
   "metadata": {
    "colab_type": "text",
    "id": "VTK2q2GYsx4I"
   },
   "source": [
    "General information about the input data size, the audio is 513 x 16 and number of classes is 11."
   ]
  },
  {
   "cell_type": "code",
   "execution_count": 0,
   "metadata": {
    "colab": {},
    "colab_type": "code",
    "id": "lt8n2xYEpQqs"
   },
   "outputs": [],
   "source": [
    "train_data = train_data.reshape(len(train_data),-1)\n",
    "valid_data = valid_data.reshape(len(valid_data),-1)\n",
    "test_data = test_data.reshape(len(test_data),-1)"
   ]
  },
  {
   "cell_type": "code",
   "execution_count": 0,
   "metadata": {
    "colab": {},
    "colab_type": "code",
    "id": "8K-fZ2Xbl7QL"
   },
   "outputs": [],
   "source": [
    "size = 16416/2       # Number of elements \n",
    "n_classes = 11     # Number of classes"
   ]
  },
  {
   "cell_type": "markdown",
   "metadata": {
    "colab_type": "text",
    "id": "8-Zty2u7uKuJ"
   },
   "source": [
    "Define a few functions, including randomizing data before feed in mini batch optimization, and get batch functions to split training data"
   ]
  },
  {
   "cell_type": "code",
   "execution_count": 0,
   "metadata": {
    "colab": {},
    "colab_type": "code",
    "id": "RgxC0amkk6fx"
   },
   "outputs": [],
   "source": [
    "def randomize(x, y):\n",
    "    \"\"\" Randomizes the order of data samples and their corresponding labels\"\"\"\n",
    "    permutation = np.random.permutation(y.shape[0])\n",
    "    shuffled_x = x[permutation, :]\n",
    "    shuffled_y = y[permutation]\n",
    "    return shuffled_x, shuffled_y\n",
    "\n",
    "def get_next_batch(x, y, start, end):\n",
    "    x_batch = x[start:end]\n",
    "    y_batch = y[start:end]\n",
    "    return x_batch, y_batch"
   ]
  },
  {
   "cell_type": "markdown",
   "metadata": {
    "colab_type": "text",
    "id": "M15mJ-iWuXru"
   },
   "source": [
    "Initialize the hyper-parameters including the training epochs and hidden units"
   ]
  },
  {
   "cell_type": "code",
   "execution_count": 0,
   "metadata": {
    "colab": {},
    "colab_type": "code",
    "id": "XnKSvaxdkztp"
   },
   "outputs": [],
   "source": [
    "# Hyper-parameters\n",
    "epochs = 15             # Total number of training epochs\n",
    "batch_size = 100        # Training batch size\n",
    "display_freq = 100      # Frequency of displaying the training results\n",
    "learning_rate = 0.001   # The optimization initial learning rate\n",
    "\n",
    "h1 = 1024               # number of nodes in the 1st hidden layer\n",
    "h2 = 1024               # number of nodes in the 2nd hidden layer\n",
    "h3 = 1024               # number of nodes in the 3rd hidden layer\n",
    "h4 = 1024               # number of nodes in the 4th hidden layer\n",
    "h5 = 1024               # number of nodes in the 5th hidden layer"
   ]
  },
  {
   "cell_type": "markdown",
   "metadata": {
    "colab_type": "text",
    "id": "T_4TLj4UumTy"
   },
   "source": [
    "Create weight and bias variables"
   ]
  },
  {
   "cell_type": "code",
   "execution_count": 0,
   "metadata": {
    "colab": {},
    "colab_type": "code",
    "id": "0XXOH5xAfB17"
   },
   "outputs": [],
   "source": [
    "# Creat Weights and Bias\n",
    "def weight_variable(name, shape):\n",
    "    \"\"\"\n",
    "    Create a weight variable with appropriate initialization\n",
    "    :param name: weight name\n",
    "    :param shape: weight shape\n",
    "    :return: initialized weight variable\n",
    "    \"\"\"\n",
    "    initer = tf.truncated_normal_initializer(stddev=0.01)\n",
    "    return tf.get_variable('W_' + name,\n",
    "                           dtype=tf.float32,\n",
    "                           shape=shape,\n",
    "                           initializer=initer)\n",
    "\n",
    "def bias_variable(name, shape):\n",
    "    \"\"\"\n",
    "    Create a bias variable with appropriate initialization\n",
    "    :param name: bias variable name\n",
    "    :param shape: bias variable shape\n",
    "    :return: initialized bias variable\n",
    "    \"\"\"\n",
    "    initial = tf.constant(0., shape=shape, dtype=tf.float32)\n",
    "    return tf.get_variable('b_' + name,\n",
    "                           dtype=tf.float32,\n",
    "                           initializer=initial)"
   ]
  },
  {
   "cell_type": "markdown",
   "metadata": {
    "colab_type": "text",
    "id": "vjy5iIORurwx"
   },
   "source": [
    "Creat a layer function  and use Rectified Linear Units (ReLU) as activation function. <br>\n",
    "$ L = W*X+b $"
   ]
  },
  {
   "cell_type": "code",
   "execution_count": 0,
   "metadata": {
    "colab": {},
    "colab_type": "code",
    "id": "mTZuWHORhktW"
   },
   "outputs": [],
   "source": [
    "# Create a layer\n",
    "def fc_layer(x, num_units, name, use_relu=True):\n",
    "    \"\"\"\n",
    "    Create a fully-connected layer\n",
    "    :param x: input from previous layer\n",
    "    :param num_units: number of hidden units in the fully-connected layer\n",
    "    :param name: layer name\n",
    "    :param use_relu: boolean to add ReLU non-linearity (or not)\n",
    "    :return: The output array\n",
    "    \"\"\"\n",
    "    in_dim = x.get_shape()[1]\n",
    "    W = weight_variable(name, shape=[in_dim, num_units])\n",
    "    b = bias_variable(name, [num_units])\n",
    "    layer = tf.matmul(x, W)\n",
    "    layer += b\n",
    "    if use_relu:\n",
    "        layer = tf.nn.relu(layer)\n",
    "    return b,W,layer"
   ]
  },
  {
   "cell_type": "markdown",
   "metadata": {
    "colab_type": "text",
    "id": "Shd_ecj7TZ6n"
   },
   "source": [
    "Set a reset graph in case there is running error, when multi graph is created because of running code back and forth."
   ]
  },
  {
   "cell_type": "code",
   "execution_count": 0,
   "metadata": {
    "colab": {},
    "colab_type": "code",
    "id": "u2FexAZkt8Ef"
   },
   "outputs": [],
   "source": [
    "tf.reset_default_graph()"
   ]
  },
  {
   "cell_type": "markdown",
   "metadata": {
    "colab_type": "text",
    "id": "7jGDLtwSTxrU"
   },
   "source": [
    "Create the graph for the linear model. Placeholders for inputs (x,image) and outputs(y,label) "
   ]
  },
  {
   "cell_type": "code",
   "execution_count": 0,
   "metadata": {
    "colab": {},
    "colab_type": "code",
    "id": "11DDBVzYh6HS"
   },
   "outputs": [],
   "source": [
    "x = tf.placeholder(tf.float32, shape=[None, size], name='X')\n",
    "y = tf.placeholder(tf.float32, shape=[None, n_classes], name='Y')"
   ]
  },
  {
   "cell_type": "markdown",
   "metadata": {
    "colab_type": "text",
    "id": "221MZFYCT7jW"
   },
   "source": [
    "Create a fully-connected layers with 1024 units of 5 hidden layer. <br>\n",
    "Then create a fully-connected layer with n_classes nodes as output layer. "
   ]
  },
  {
   "cell_type": "code",
   "execution_count": 0,
   "metadata": {
    "colab": {
     "base_uri": "https://localhost:8080/",
     "height": 87
    },
    "colab_type": "code",
    "id": "ZQADxxeMiF6B",
    "outputId": "39b07e90-273f-4330-b940-799af8414408"
   },
   "outputs": [
    {
     "name": "stdout",
     "output_type": "stream",
     "text": [
      "WARNING:tensorflow:From /usr/local/lib/python3.6/dist-packages/tensorflow/python/framework/op_def_library.py:263: colocate_with (from tensorflow.python.framework.ops) is deprecated and will be removed in a future version.\n",
      "Instructions for updating:\n",
      "Colocations handled automatically by placer.\n"
     ]
    }
   ],
   "source": [
    "b1, w1, fc1 = fc_layer(x, h1, 'FC1', use_relu=True)\n",
    "b2, w2, fc2 = fc_layer(fc1, h2, 'FC2',use_relu=True)\n",
    "b3, w3, fc3 = fc_layer(fc2, h3, 'FC3', use_relu=True)\n",
    "b4, w4, fc4 = fc_layer(fc3, h4, 'FC4', use_relu=True)\n",
    "b5, w5, fc5 = fc_layer(fc4, h5, 'FC5', use_relu=True)\n",
    "b6, w6, output_logits = fc_layer(fc5, n_classes, 'OUT', use_relu=False)"
   ]
  },
  {
   "cell_type": "markdown",
   "metadata": {
    "colab_type": "text",
    "id": "J2kqC7hwu1tx"
   },
   "source": [
    "Define the loss function using the output labels and true labels, calculate the loss using the softmax function. <br>\n",
    "Define optimization function the using the AdamOptimizer. <br>\n",
    "Define accuracy function by calculating the number of correct predictions.\n",
    "\n"
   ]
  },
  {
   "cell_type": "code",
   "execution_count": 0,
   "metadata": {
    "colab": {
     "base_uri": "https://localhost:8080/",
     "height": 171
    },
    "colab_type": "code",
    "id": "j8qE6YsajZyu",
    "outputId": "ffef1a1e-79a6-41a0-d0a3-0f65c64cddc9"
   },
   "outputs": [
    {
     "name": "stdout",
     "output_type": "stream",
     "text": [
      "WARNING:tensorflow:From <ipython-input-31-466108efdbea>:1: softmax_cross_entropy_with_logits (from tensorflow.python.ops.nn_ops) is deprecated and will be removed in a future version.\n",
      "Instructions for updating:\n",
      "\n",
      "Future major versions of TensorFlow will allow gradients to flow\n",
      "into the labels input on backprop by default.\n",
      "\n",
      "See `tf.nn.softmax_cross_entropy_with_logits_v2`.\n",
      "\n"
     ]
    }
   ],
   "source": [
    "# Define the loss function, optimizer, and accuracy\n",
    "loss = tf.reduce_mean(tf.nn.softmax_cross_entropy_with_logits(labels=y, logits=output_logits), name='loss')\n",
    "optimizer = tf.train.AdamOptimizer(learning_rate=learning_rate, name='Adam-op').minimize(loss)\n",
    "correct_prediction = tf.equal(tf.argmax(output_logits, 1), tf.argmax(y, 1), name='correct_pred')\n",
    "accuracy = tf.reduce_mean(tf.cast(correct_prediction, tf.float32), name='accuracy')\n",
    "\n",
    "# Network predictions\n",
    "cls_prediction = tf.argmax(output_logits, axis=1, name='predictions')"
   ]
  },
  {
   "cell_type": "code",
   "execution_count": 0,
   "metadata": {
    "colab": {},
    "colab_type": "code",
    "id": "fEWdn1HjsdoK"
   },
   "outputs": [],
   "source": [
    "# Create the init for initializing all variables\n",
    "init = tf.global_variables_initializer()"
   ]
  },
  {
   "cell_type": "code",
   "execution_count": 0,
   "metadata": {
    "colab": {},
    "colab_type": "code",
    "id": "aYmrAP8SZm9f"
   },
   "outputs": [],
   "source": [
    "# Create an interactive session (to keep the session in the other cells)\n",
    "sess = tf.InteractiveSession()\n",
    "# Initialize all variables\n",
    "sess.run(init)\n",
    "saver = tf.train.Saver()"
   ]
  },
  {
   "cell_type": "markdown",
   "metadata": {
    "colab_type": "text",
    "id": "G3J9ssInu8I6"
   },
   "source": [
    "The main training session starts here."
   ]
  },
  {
   "cell_type": "code",
   "execution_count": 0,
   "metadata": {
    "colab": {
     "base_uri": "https://localhost:8080/",
     "height": 1781
    },
    "colab_type": "code",
    "id": "EEfazIhfkrE4",
    "outputId": "8adc14f8-2ab4-47c9-b76b-abcfea48eb55"
   },
   "outputs": [
    {
     "name": "stdout",
     "output_type": "stream",
     "text": [
      "Training epoch: 1\n",
      "iter   0:\t Loss=2.39,\tTraining Accuracy=16.0%\n",
      "iter 100:\t Loss=2.22,\tTraining Accuracy=18.0%\n",
      "iter 200:\t Loss=1.73,\tTraining Accuracy=39.0%\n",
      "---------------------------------------------------------\n",
      "Epoch: 1, validation loss: 1.86, validation accuracy: 29.4%\n",
      "---------------------------------------------------------\n",
      "Training epoch: 2\n",
      "iter   0:\t Loss=1.77,\tTraining Accuracy=28.0%\n",
      "iter 100:\t Loss=1.49,\tTraining Accuracy=47.0%\n",
      "iter 200:\t Loss=1.21,\tTraining Accuracy=53.0%\n",
      "---------------------------------------------------------\n",
      "Epoch: 2, validation loss: 1.49, validation accuracy: 45.9%\n",
      "---------------------------------------------------------\n",
      "Training epoch: 3\n",
      "iter   0:\t Loss=1.04,\tTraining Accuracy=64.0%\n",
      "iter 100:\t Loss=0.86,\tTraining Accuracy=73.0%\n",
      "iter 200:\t Loss=0.97,\tTraining Accuracy=67.0%\n",
      "---------------------------------------------------------\n",
      "Epoch: 3, validation loss: 1.28, validation accuracy: 58.0%\n",
      "---------------------------------------------------------\n",
      "Training epoch: 4\n",
      "iter   0:\t Loss=0.79,\tTraining Accuracy=74.0%\n",
      "iter 100:\t Loss=0.69,\tTraining Accuracy=74.0%\n",
      "iter 200:\t Loss=0.51,\tTraining Accuracy=85.0%\n",
      "---------------------------------------------------------\n",
      "Epoch: 4, validation loss: 1.22, validation accuracy: 63.7%\n",
      "---------------------------------------------------------\n",
      "Training epoch: 5\n",
      "iter   0:\t Loss=0.37,\tTraining Accuracy=89.0%\n",
      "iter 100:\t Loss=0.53,\tTraining Accuracy=82.0%\n",
      "iter 200:\t Loss=0.39,\tTraining Accuracy=89.0%\n",
      "---------------------------------------------------------\n",
      "Epoch: 5, validation loss: 1.21, validation accuracy: 67.3%\n",
      "---------------------------------------------------------\n",
      "Training epoch: 6\n",
      "iter   0:\t Loss=0.30,\tTraining Accuracy=89.0%\n",
      "iter 100:\t Loss=0.35,\tTraining Accuracy=88.0%\n",
      "iter 200:\t Loss=0.26,\tTraining Accuracy=90.0%\n",
      "---------------------------------------------------------\n",
      "Epoch: 6, validation loss: 1.20, validation accuracy: 67.1%\n",
      "---------------------------------------------------------\n",
      "Training epoch: 7\n",
      "iter   0:\t Loss=0.25,\tTraining Accuracy=94.0%\n",
      "iter 100:\t Loss=0.27,\tTraining Accuracy=92.0%\n",
      "iter 200:\t Loss=0.22,\tTraining Accuracy=94.0%\n",
      "---------------------------------------------------------\n",
      "Epoch: 7, validation loss: 1.27, validation accuracy: 69.5%\n",
      "---------------------------------------------------------\n",
      "Training epoch: 8\n",
      "iter   0:\t Loss=0.16,\tTraining Accuracy=96.0%\n",
      "iter 100:\t Loss=0.18,\tTraining Accuracy=95.0%\n",
      "iter 200:\t Loss=0.15,\tTraining Accuracy=97.0%\n",
      "---------------------------------------------------------\n",
      "Epoch: 8, validation loss: 1.40, validation accuracy: 70.3%\n",
      "---------------------------------------------------------\n",
      "Training epoch: 9\n",
      "iter   0:\t Loss=0.13,\tTraining Accuracy=96.0%\n",
      "iter 100:\t Loss=0.13,\tTraining Accuracy=97.0%\n",
      "iter 200:\t Loss=0.17,\tTraining Accuracy=96.0%\n",
      "---------------------------------------------------------\n",
      "Epoch: 9, validation loss: 1.82, validation accuracy: 69.4%\n",
      "---------------------------------------------------------\n",
      "Training epoch: 10\n",
      "iter   0:\t Loss=0.11,\tTraining Accuracy=98.0%\n",
      "iter 100:\t Loss=0.11,\tTraining Accuracy=96.0%\n",
      "iter 200:\t Loss=0.08,\tTraining Accuracy=98.0%\n",
      "---------------------------------------------------------\n",
      "Epoch: 10, validation loss: 1.57, validation accuracy: 70.2%\n",
      "---------------------------------------------------------\n",
      "Training epoch: 11\n",
      "iter   0:\t Loss=0.12,\tTraining Accuracy=97.0%\n",
      "iter 100:\t Loss=0.11,\tTraining Accuracy=96.0%\n",
      "iter 200:\t Loss=0.06,\tTraining Accuracy=99.0%\n",
      "---------------------------------------------------------\n",
      "Epoch: 11, validation loss: 1.68, validation accuracy: 70.4%\n",
      "---------------------------------------------------------\n",
      "Training epoch: 12\n",
      "iter   0:\t Loss=0.08,\tTraining Accuracy=98.0%\n",
      "iter 100:\t Loss=0.04,\tTraining Accuracy=98.0%\n",
      "iter 200:\t Loss=0.03,\tTraining Accuracy=100.0%\n",
      "---------------------------------------------------------\n",
      "Epoch: 12, validation loss: 1.88, validation accuracy: 71.1%\n",
      "---------------------------------------------------------\n",
      "Training epoch: 13\n",
      "iter   0:\t Loss=0.02,\tTraining Accuracy=99.0%\n",
      "iter 100:\t Loss=0.07,\tTraining Accuracy=97.0%\n",
      "iter 200:\t Loss=0.13,\tTraining Accuracy=97.0%\n",
      "---------------------------------------------------------\n",
      "Epoch: 13, validation loss: 1.65, validation accuracy: 68.7%\n",
      "---------------------------------------------------------\n",
      "Training epoch: 14\n",
      "iter   0:\t Loss=0.09,\tTraining Accuracy=97.0%\n",
      "iter 100:\t Loss=0.20,\tTraining Accuracy=96.0%\n",
      "iter 200:\t Loss=0.03,\tTraining Accuracy=99.0%\n",
      "---------------------------------------------------------\n",
      "Epoch: 14, validation loss: 1.98, validation accuracy: 69.7%\n",
      "---------------------------------------------------------\n",
      "Training epoch: 15\n",
      "iter   0:\t Loss=0.03,\tTraining Accuracy=99.0%\n",
      "iter 100:\t Loss=0.02,\tTraining Accuracy=100.0%\n",
      "iter 200:\t Loss=0.07,\tTraining Accuracy=98.0%\n",
      "---------------------------------------------------------\n",
      "Epoch: 15, validation loss: 1.63, validation accuracy: 69.5%\n",
      "---------------------------------------------------------\n"
     ]
    }
   ],
   "source": [
    "# Number of training iterations in each epoch\n",
    "num_tr_iter = int(len(train_label) / batch_size)\n",
    "train_acc_all = []\n",
    "valid_acc_all = []\n",
    "for epoch in range(epochs):\n",
    "    print('Training epoch: {}'.format(epoch + 1))\n",
    "    # Randomly shuffle the training data at the beginning of each epoch \n",
    "    x_train, y_train = randomize(train_data, train_label)\n",
    "    for iteration in range(num_tr_iter):\n",
    "        start = iteration * batch_size\n",
    "        end = (iteration + 1) * batch_size\n",
    "        x_batch, y_batch = get_next_batch(x_train, y_train, start, end)\n",
    "\n",
    "        # Run optimization op (backprop)\n",
    "        feed_dict_batch = {x: x_batch, y: y_batch}\n",
    "        sess.run(optimizer, feed_dict=feed_dict_batch)\n",
    "\n",
    "        if iteration % display_freq == 0:\n",
    "            # Calculate and display the batch loss and accuracy\n",
    "            loss_batch, acc_batch = sess.run([loss, accuracy],\n",
    "                                             feed_dict=feed_dict_batch)\n",
    "\n",
    "            print(\"iter {0:3d}:\\t Loss={1:.2f},\\tTraining Accuracy={2:.01%}\".\n",
    "                  format(iteration, loss_batch, acc_batch))\n",
    "            train_acc_all.append(acc_batch)\n",
    "    # Run validation after every epoch\n",
    "    feed_dict_valid = {x: valid_data, y: valid_label}\n",
    "    loss_valid, acc_valid = sess.run([loss, accuracy], feed_dict=feed_dict_valid)\n",
    "    valid_acc_all.append(acc_valid)\n",
    "    print('---------------------------------------------------------')\n",
    "    print(\"Epoch: {0}, validation loss: {1:.2f}, validation accuracy: {2:.01%}\".\n",
    "          format(epoch + 1, loss_valid, acc_valid))\n",
    "    print('---------------------------------------------------------')\n",
    "    "
   ]
  },
  {
   "cell_type": "code",
   "execution_count": 0,
   "metadata": {
    "colab": {},
    "colab_type": "code",
    "id": "MFdCKOvNYeZv"
   },
   "outputs": [],
   "source": [
    "def plot_accuracy(train,valid):\n",
    "  plt.plot(train,'g',label='training data')\n",
    "  plt.plot(valid,'r',label='validation data')\n",
    "  plt.xlabel('epochs')\n",
    "  plt.ylabel('accuracy')\n",
    "  plt.legend(loc='lower right')\n",
    "  plt.title('Improvement of prediction accuracy with increasing epoch')\n",
    "  return "
   ]
  },
  {
   "cell_type": "code",
   "execution_count": 0,
   "metadata": {
    "colab": {},
    "colab_type": "code",
    "id": "X3ZwZ7T8Z12f"
   },
   "outputs": [],
   "source": [
    "train_acc = []\n",
    "for i in range(0,len(train_acc_all)-3,3):\n",
    "  pts = np.mean(train_acc_all[i:i+3])\n",
    "  train_acc.append(pts)\n",
    "plot_accuracy(train_acc,valid_acc_all)"
   ]
  },
  {
   "cell_type": "markdown",
   "metadata": {
    "colab_type": "text",
    "id": "Ljy6PgZsFNJb"
   },
   "source": [
    "**Save the model**"
   ]
  },
  {
   "cell_type": "code",
   "execution_count": 0,
   "metadata": {
    "colab": {
     "base_uri": "https://localhost:8080/",
     "height": 34
    },
    "colab_type": "code",
    "id": "jRVIancdFMmV",
    "outputId": "9ca0dc52-0120-412d-f1bd-131ab24f0292"
   },
   "outputs": [
    {
     "data": {
      "text/plain": [
       "'./drive/My Drive/FCNN-model-noise'"
      ]
     },
     "execution_count": 39,
     "metadata": {
      "tags": []
     },
     "output_type": "execute_result"
    }
   ],
   "source": [
    "saver.save(sess, './drive/My Drive/FCNN-model-noise')"
   ]
  },
  {
   "cell_type": "markdown",
   "metadata": {
    "colab_type": "text",
    "id": "asEfg3vjvAyh"
   },
   "source": [
    "Test prediction accuracy on test set. "
   ]
  },
  {
   "cell_type": "code",
   "execution_count": 0,
   "metadata": {
    "colab": {
     "base_uri": "https://localhost:8080/",
     "height": 67
    },
    "colab_type": "code",
    "id": "h2YBsuNnrdF0",
    "outputId": "8ae902a9-e5dd-430d-cbf2-7a9919b9f878"
   },
   "outputs": [
    {
     "name": "stdout",
     "output_type": "stream",
     "text": [
      "---------------------------------------------------------\n",
      "Test loss: 1.53, test accuracy: 69.7%\n",
      "---------------------------------------------------------\n"
     ]
    }
   ],
   "source": [
    "# Test the network after training\n",
    "# Accuracy\n",
    "feed_dict_test = {x: test_data, y: test_label}\n",
    "loss_test, acc_test = sess.run([loss, accuracy], feed_dict=feed_dict_test)\n",
    "\n",
    "print('---------------------------------------------------------')\n",
    "print(\"Test loss: {0:.2f}, test accuracy: {1:.01%}\".format(loss_test, acc_test))\n",
    "print('---------------------------------------------------------')"
   ]
  },
  {
   "cell_type": "markdown",
   "metadata": {
    "colab_type": "text",
    "id": "tjezDXAhwnCj"
   },
   "source": [
    "**The fully connected neural network baseline model achives 75.3% accuracy on test data set.**"
   ]
  },
  {
   "cell_type": "code",
   "execution_count": 0,
   "metadata": {
    "colab": {},
    "colab_type": "code",
    "id": "2BiXfpNJG9sQ"
   },
   "outputs": [],
   "source": [
    "sess.close()"
   ]
  },
  {
   "cell_type": "code",
   "execution_count": 0,
   "metadata": {
    "colab": {},
    "colab_type": "code",
    "id": "p8MBfzm1yg_d"
   },
   "outputs": [],
   "source": [
    "del train_data\n",
    "del valid_data\n",
    "del test_data"
   ]
  },
  {
   "cell_type": "code",
   "execution_count": 0,
   "metadata": {
    "colab": {},
    "colab_type": "code",
    "id": "S2gLPELyJkUe"
   },
   "outputs": [],
   "source": [
    "del x_train\n",
    "del y_train"
   ]
  },
  {
   "cell_type": "markdown",
   "metadata": {
    "colab_type": "text",
    "id": "VX9Dn-uRdW5b"
   },
   "source": [
    "# Build LSTM, CNN model for the training dataset"
   ]
  },
  {
   "cell_type": "code",
   "execution_count": 0,
   "metadata": {
    "colab": {
     "base_uri": "https://localhost:8080/",
     "height": 34
    },
    "colab_type": "code",
    "id": "kK9KeMPuZ6SB",
    "outputId": "1435a1d4-d07d-4116-9cb4-af8d049dea8f"
   },
   "outputs": [
    {
     "name": "stderr",
     "output_type": "stream",
     "text": [
      "Using TensorFlow backend.\n"
     ]
    }
   ],
   "source": [
    "from keras.models import Sequential\n",
    "from keras.layers import Dense\n",
    "from keras.layers import LSTM,Dropout,SpatialDropout1D, Reshape\n",
    "from keras.preprocessing import sequence\n",
    "from keras.models import model_from_json\n",
    "from keras.layers import Dense, Dropout, Flatten, Conv2D, MaxPooling2D\n",
    "from keras.callbacks import CSVLogger\n",
    "from sklearn.metrics import confusion_matrix"
   ]
  },
  {
   "cell_type": "code",
   "execution_count": 0,
   "metadata": {
    "colab": {},
    "colab_type": "code",
    "id": "UcQWPCEFsrIB"
   },
   "outputs": [],
   "source": [
    "# Training parameters.\n",
    "batch_size = 32\n",
    "num_classes = 11\n",
    "epochs = 15"
   ]
  },
  {
   "cell_type": "code",
   "execution_count": 0,
   "metadata": {
    "colab": {
     "base_uri": "https://localhost:8080/",
     "height": 34
    },
    "colab_type": "code",
    "id": "taelOT0y75hG",
    "outputId": "5b60bcb7-93e4-4f41-d038-ae5c8bab2ad6"
   },
   "outputs": [
    {
     "data": {
      "text/plain": [
       "(20391, 513, 16, 1)"
      ]
     },
     "execution_count": 53,
     "metadata": {
      "tags": []
     },
     "output_type": "execute_result"
    }
   ],
   "source": [
    "train_data = train_data.reshape(train_data.shape[0],train_data.shape[1],train_data.shape[2],1)\n",
    "train_data.shape"
   ]
  },
  {
   "cell_type": "code",
   "execution_count": 0,
   "metadata": {
    "colab": {
     "base_uri": "https://localhost:8080/",
     "height": 34
    },
    "colab_type": "code",
    "id": "nWOAoQ0iFgF9",
    "outputId": "3f86a472-c712-4132-dc36-b54c4a04d63e"
   },
   "outputs": [
    {
     "data": {
      "text/plain": [
       "(2823, 513, 16, 1)"
      ]
     },
     "execution_count": 54,
     "metadata": {
      "tags": []
     },
     "output_type": "execute_result"
    }
   ],
   "source": [
    "valid_data = valid_data.reshape(valid_data.shape[0],valid_data.shape[1],valid_data.shape[2],1)\n",
    "valid_data.shape\n",
    "test_data = test_data.reshape(test_data.shape[0],test_data.shape[1],test_data.shape[2],1)\n",
    "test_data.shape"
   ]
  },
  {
   "cell_type": "markdown",
   "metadata": {
    "colab_type": "text",
    "id": "MceUoI3HK9Ku"
   },
   "source": [
    "## CNN model"
   ]
  },
  {
   "cell_type": "code",
   "execution_count": 0,
   "metadata": {
    "colab": {
     "base_uri": "https://localhost:8080/",
     "height": 87
    },
    "colab_type": "code",
    "id": "fiMzY2KTKCA0",
    "outputId": "f93ccf2e-83bf-44cd-ae11-0408b4dd1526"
   },
   "outputs": [
    {
     "name": "stdout",
     "output_type": "stream",
     "text": [
      "WARNING:tensorflow:From /usr/local/lib/python3.6/dist-packages/keras/backend/tensorflow_backend.py:3445: calling dropout (from tensorflow.python.ops.nn_ops) with keep_prob is deprecated and will be removed in a future version.\n",
      "Instructions for updating:\n",
      "Please use `rate` instead of `keep_prob`. Rate should be set to `rate = 1 - keep_prob`.\n"
     ]
    }
   ],
   "source": [
    "cnn_model = Sequential()\n",
    "cnn_model.add(Conv2D(64, kernel_size=(3, 3), activation='relu', input_shape=(513, 16, 1)))\n",
    "cnn_model.add(MaxPooling2D(pool_size=(3, 3)))\n",
    "cnn_model.add(Dropout(0.25))\n",
    "cnn_model.add(Flatten())\n",
    "cnn_model.add(Dense(128, activation='relu'))\n",
    "cnn_model.add(Dropout(0.25))\n",
    "cnn_model.add(Dense(num_classes, activation='softmax'))\n",
    "cnn_model.compile(loss='categorical_crossentropy',\n",
    "              optimizer='adam',\n",
    "              metrics=['accuracy'])"
   ]
  },
  {
   "cell_type": "code",
   "execution_count": 0,
   "metadata": {
    "colab": {},
    "colab_type": "code",
    "id": "yYXIaUUigb98"
   },
   "outputs": [],
   "source": [
    "csv_logger = CSVLogger('cnn_log-16-noise.csv', append=True, separator=';')"
   ]
  },
  {
   "cell_type": "code",
   "execution_count": 0,
   "metadata": {
    "colab": {
     "base_uri": "https://localhost:8080/",
     "height": 843
    },
    "colab_type": "code",
    "id": "_1obk78p6zRt",
    "outputId": "7a5ed6a3-1a0d-4db4-c4fd-991e7042a8d4"
   },
   "outputs": [
    {
     "name": "stdout",
     "output_type": "stream",
     "text": [
      "WARNING:tensorflow:From /usr/local/lib/python3.6/dist-packages/tensorflow/python/ops/math_ops.py:3066: to_int32 (from tensorflow.python.ops.math_ops) is deprecated and will be removed in a future version.\n",
      "Instructions for updating:\n",
      "Use tf.cast instead.\n",
      "Train on 20391 samples, validate on 2834 samples\n",
      "Epoch 1/1\n",
      "20391/20391 [==============================] - 20s 985us/step - loss: 1.9376 - acc: 0.3499 - val_loss: 1.6353 - val_acc: 0.4757\n",
      "Train on 20391 samples, validate on 2834 samples\n",
      "Epoch 2/2\n",
      "20391/20391 [==============================] - 18s 867us/step - loss: 1.5055 - acc: 0.5006 - val_loss: 1.4670 - val_acc: 0.5427\n",
      "Train on 20391 samples, validate on 2834 samples\n",
      "Epoch 3/3\n",
      "20391/20391 [==============================] - 18s 880us/step - loss: 1.2985 - acc: 0.5762 - val_loss: 1.3568 - val_acc: 0.5840\n",
      "Train on 20391 samples, validate on 2834 samples\n",
      "Epoch 4/4\n",
      "20391/20391 [==============================] - 18s 882us/step - loss: 1.1347 - acc: 0.6247 - val_loss: 1.3077 - val_acc: 0.5967\n",
      "Train on 20391 samples, validate on 2834 samples\n",
      "Epoch 5/5\n",
      "20391/20391 [==============================] - 18s 882us/step - loss: 1.0177 - acc: 0.6645 - val_loss: 1.3326 - val_acc: 0.6041\n",
      "Train on 20391 samples, validate on 2834 samples\n",
      "Epoch 6/6\n",
      "20391/20391 [==============================] - 18s 883us/step - loss: 0.9185 - acc: 0.6919 - val_loss: 1.3032 - val_acc: 0.6249\n",
      "Train on 20391 samples, validate on 2834 samples\n",
      "Epoch 7/7\n",
      "20391/20391 [==============================] - 18s 888us/step - loss: 0.8489 - acc: 0.7188 - val_loss: 1.3599 - val_acc: 0.6291\n",
      "Train on 20391 samples, validate on 2834 samples\n",
      "Epoch 8/8\n",
      "20391/20391 [==============================] - 18s 888us/step - loss: 0.7633 - acc: 0.7490 - val_loss: 1.4070 - val_acc: 0.6235\n",
      "Train on 20391 samples, validate on 2834 samples\n",
      "Epoch 9/9\n",
      "20391/20391 [==============================] - 18s 882us/step - loss: 0.7193 - acc: 0.7640 - val_loss: 1.4248 - val_acc: 0.6380\n",
      "Train on 20391 samples, validate on 2834 samples\n",
      "Epoch 10/10\n",
      "20391/20391 [==============================] - 18s 883us/step - loss: 0.6617 - acc: 0.7799 - val_loss: 1.4722 - val_acc: 0.6348\n",
      "Train on 20391 samples, validate on 2834 samples\n",
      "Epoch 11/11\n",
      "20391/20391 [==============================] - 18s 884us/step - loss: 0.6212 - acc: 0.7991 - val_loss: 1.5105 - val_acc: 0.6291\n",
      "Train on 20391 samples, validate on 2834 samples\n",
      "Epoch 12/12\n",
      "20391/20391 [==============================] - 18s 879us/step - loss: 0.5830 - acc: 0.8148 - val_loss: 1.6433 - val_acc: 0.6179\n",
      "Train on 20391 samples, validate on 2834 samples\n",
      "Epoch 13/13\n",
      "20391/20391 [==============================] - 18s 875us/step - loss: 0.5674 - acc: 0.8165 - val_loss: 1.5718 - val_acc: 0.6200\n",
      "Train on 20391 samples, validate on 2834 samples\n",
      "Epoch 14/14\n",
      "20391/20391 [==============================] - 18s 873us/step - loss: 0.5403 - acc: 0.8255 - val_loss: 1.6080 - val_acc: 0.6281\n",
      "Train on 20391 samples, validate on 2834 samples\n",
      "Epoch 15/15\n",
      "20391/20391 [==============================] - 18s 874us/step - loss: 0.5156 - acc: 0.8342 - val_loss: 1.6796 - val_acc: 0.6239\n"
     ]
    }
   ],
   "source": [
    "for epoch in range(epochs):\n",
    "  cnn_model.fit(train_data, train_label,\n",
    "            batch_size=batch_size,\n",
    "            epochs=epoch+1,\n",
    "            initial_epoch=epoch,\n",
    "            verbose=1,\n",
    "            validation_data=(valid_data, valid_label),\n",
    "            callbacks=[csv_logger])"
   ]
  },
  {
   "cell_type": "code",
   "execution_count": 0,
   "metadata": {
    "colab": {},
    "colab_type": "code",
    "id": "xB73Vw5Ngiab"
   },
   "outputs": [],
   "source": [
    "import pandas as pd"
   ]
  },
  {
   "cell_type": "code",
   "execution_count": 0,
   "metadata": {
    "colab": {
     "base_uri": "https://localhost:8080/",
     "height": 34
    },
    "colab_type": "code",
    "id": "XDBZge20hLUa",
    "outputId": "5f8fd7a3-1043-4e80-df92-f7107f284552"
   },
   "outputs": [
    {
     "data": {
      "text/plain": [
       "Index(['epoch', 'acc', 'loss', 'val_acc', 'val_loss'], dtype='object')"
      ]
     },
     "execution_count": 30,
     "metadata": {
      "tags": []
     },
     "output_type": "execute_result"
    }
   ],
   "source": [
    "cnn_hist = pd.read_csv('cnn_log-16-noise.csv',sep=';')\n",
    "cnn_hist.columns"
   ]
  },
  {
   "cell_type": "code",
   "execution_count": 0,
   "metadata": {
    "colab": {
     "base_uri": "https://localhost:8080/",
     "height": 472
    },
    "colab_type": "code",
    "id": "NiZAW5qLmI9T",
    "outputId": "fd4854d3-ed88-4a10-eebf-74e23185c8dc"
   },
   "outputs": [
    {
     "data": {
      "image/png": "[encoded data removed]",
      "text/plain": [
       "<Figure size 640x480 with 1 Axes>"
      ]
     },
     "metadata": {
      "tags": []
     },
     "output_type": "display_data"
    }
   ],
   "source": [
    "plot_accuracy(cnn_hist.acc,cnn_hist.val_acc)"
   ]
  },
  {
   "cell_type": "code",
   "execution_count": 0,
   "metadata": {
    "colab": {
     "base_uri": "https://localhost:8080/",
     "height": 50
    },
    "colab_type": "code",
    "id": "ZmOn33HrFzLP",
    "outputId": "80013bdd-b7d7-40ae-c5b8-f5f5001517c6"
   },
   "outputs": [
    {
     "name": "stdout",
     "output_type": "stream",
     "text": [
      "Test loss: 1.813769690837583\n",
      "Test accuracy: 0.6167198016453076\n"
     ]
    }
   ],
   "source": [
    "# Evaluation.\n",
    "scores = cnn_model.evaluate(test_data, test_label, verbose=0)\n",
    "print('Test loss:', scores[0])\n",
    "print('Test accuracy:', scores[1])"
   ]
  },
  {
   "cell_type": "markdown",
   "metadata": {
    "colab_type": "text",
    "id": "8Od87wUFFzLS"
   },
   "source": [
    "**Save keras model**"
   ]
  },
  {
   "cell_type": "code",
   "execution_count": 0,
   "metadata": {
    "colab": {
     "base_uri": "https://localhost:8080/",
     "height": 34
    },
    "colab_type": "code",
    "id": "GPV1I-tMFzLS",
    "outputId": "6f7daa63-128c-4090-f6dd-e6f3959b1b38"
   },
   "outputs": [
    {
     "name": "stdout",
     "output_type": "stream",
     "text": [
      "Saved model to disk\n"
     ]
    }
   ],
   "source": [
    "# serialize model to JSON\n",
    "model_json = cnn_model.to_json()\n",
    "with open(\"./drive/My Drive/cnn_model_32.json\", \"w\") as json_file:\n",
    "    json_file.write(model_json)\n",
    "# serialize weights to HDF5\n",
    "cnn_model.save_weights(\"./drive/My Drive/cnn_model_32.h5\")\n",
    "print(\"Saved model to disk\")"
   ]
  },
  {
   "cell_type": "markdown",
   "metadata": {
    "colab_type": "text",
    "id": "eTGr40IEFzLU"
   },
   "source": [
    "**Load keras model**"
   ]
  },
  {
   "cell_type": "code",
   "execution_count": 0,
   "metadata": {
    "colab": {},
    "colab_type": "code",
    "id": "1XOiWnq6FzLU"
   },
   "outputs": [],
   "source": [
    "# load json and create model\n",
    "json_file = open('./drive/My Drive/cnn_model_32.json', 'r')\n",
    "loaded_model_json = json_file.read()\n",
    "json_file.close()\n",
    "loaded_model = model_from_json(loaded_model_json)\n",
    "# load weights into new model\n",
    "loaded_model.load_weights(\"./drive/My Drive/cnn_model_32.h5\")\n",
    "print(\"Loaded model from disk\")"
   ]
  },
  {
   "cell_type": "code",
   "execution_count": 0,
   "metadata": {
    "colab": {},
    "colab_type": "code",
    "id": "j3b8my1An2IZ"
   },
   "outputs": [],
   "source": [
    "train_data = train_data.reshape(train_data.shape[0],train_data.shape[1],train_data.shape[2])"
   ]
  },
  {
   "cell_type": "code",
   "execution_count": 0,
   "metadata": {
    "colab": {},
    "colab_type": "code",
    "id": "VCc1AtDHoDAj"
   },
   "outputs": [],
   "source": [
    "valid_data = valid_data.reshape(valid_data.shape[0],valid_data.shape[1],valid_data.shape[2])\n",
    "test_data = test_data.reshape(test_data.shape[0],test_data.shape[1],test_data.shape[2])"
   ]
  },
  {
   "cell_type": "markdown",
   "metadata": {
    "colab_type": "text",
    "id": "uuxUbTPzLAEf"
   },
   "source": [
    "## LSTM model"
   ]
  },
  {
   "cell_type": "markdown",
   "metadata": {
    "colab_type": "text",
    "id": "_ZIvzUOYJbHr"
   },
   "source": [
    "Transpose input model"
   ]
  },
  {
   "cell_type": "code",
   "execution_count": 0,
   "metadata": {
    "colab": {},
    "colab_type": "code",
    "id": "7zmt7jnzzgoc"
   },
   "outputs": [],
   "source": [
    "model = Sequential()\n",
    "model.add(LSTM(128, dropout=0.3, recurrent_dropout=0.3))\n",
    "model.add(Dense(num_classes, activation='softmax'))\n",
    "model.compile(loss='categorical_crossentropy',\n",
    "              optimizer='adam',\n",
    "              metrics=['accuracy'])\n",
    "# model.summary()"
   ]
  },
  {
   "cell_type": "code",
   "execution_count": 0,
   "metadata": {
    "colab": {},
    "colab_type": "code",
    "id": "Dze2Mo3vRDwi"
   },
   "outputs": [],
   "source": [
    "train_data_lstm = np.transpose(train_data, (0, 2, 1))\n",
    "valid_data_lstm = np.transpose(valid_data,(0, 2, 1))\n",
    "test_data_lstm = np.transpose(test_data,(0, 2, 1))"
   ]
  },
  {
   "cell_type": "code",
   "execution_count": 0,
   "metadata": {
    "colab": {
     "base_uri": "https://localhost:8080/",
     "height": 34
    },
    "colab_type": "code",
    "id": "l4UZO3vLnY24",
    "outputId": "c91dab31-6152-4418-e4a6-d66583a9c122"
   },
   "outputs": [
    {
     "data": {
      "text/plain": [
       "(20391, 16, 513)"
      ]
     },
     "execution_count": 65,
     "metadata": {
      "tags": []
     },
     "output_type": "execute_result"
    }
   ],
   "source": [
    "train_data_lstm.shape"
   ]
  },
  {
   "cell_type": "code",
   "execution_count": 0,
   "metadata": {
    "colab": {
     "base_uri": "https://localhost:8080/",
     "height": 34
    },
    "colab_type": "code",
    "id": "uAwIoLRCoF2Q",
    "outputId": "d2980ce9-297d-4d84-d8b6-0581db91cff0"
   },
   "outputs": [
    {
     "data": {
      "text/plain": [
       "(2834, 16, 513)"
      ]
     },
     "execution_count": 66,
     "metadata": {
      "tags": []
     },
     "output_type": "execute_result"
    }
   ],
   "source": [
    "valid_data_lstm.shape"
   ]
  },
  {
   "cell_type": "code",
   "execution_count": 0,
   "metadata": {
    "colab": {
     "base_uri": "https://localhost:8080/",
     "height": 34
    },
    "colab_type": "code",
    "id": "_yRBZjxYoJiJ",
    "outputId": "034d6fb7-46bd-4981-96d6-02cd82f9a46f"
   },
   "outputs": [
    {
     "data": {
      "text/plain": [
       "(2823, 16, 513)"
      ]
     },
     "execution_count": 67,
     "metadata": {
      "tags": []
     },
     "output_type": "execute_result"
    }
   ],
   "source": [
    "test_data_lstm.shape"
   ]
  },
  {
   "cell_type": "code",
   "execution_count": 0,
   "metadata": {
    "colab": {},
    "colab_type": "code",
    "id": "9Pux3vPpoZgO"
   },
   "outputs": [],
   "source": [
    "csv_logger = CSVLogger('lstm_log-16-noise.csv', append=True, separator=';')"
   ]
  },
  {
   "cell_type": "code",
   "execution_count": 0,
   "metadata": {
    "colab": {
     "base_uri": "https://localhost:8080/",
     "height": 773
    },
    "colab_type": "code",
    "id": "pzAGBExhQLoB",
    "outputId": "b0a521fa-1b3a-4cd6-a3d5-2850338376bd"
   },
   "outputs": [
    {
     "name": "stdout",
     "output_type": "stream",
     "text": [
      "Train on 20391 samples, validate on 2834 samples\n",
      "Epoch 1/1\n",
      "20391/20391 [==============================] - 34s 2ms/step - loss: 1.4853 - acc: 0.4815 - val_loss: 0.8995 - val_acc: 0.7043\n",
      "Train on 20391 samples, validate on 2834 samples\n",
      "Epoch 2/2\n",
      "20391/20391 [==============================] - 33s 2ms/step - loss: 0.8967 - acc: 0.6939 - val_loss: 0.7187 - val_acc: 0.7505\n",
      "Train on 20391 samples, validate on 2834 samples\n",
      "Epoch 3/3\n",
      "20391/20391 [==============================] - 34s 2ms/step - loss: 0.7250 - acc: 0.7515 - val_loss: 0.6387 - val_acc: 0.7802\n",
      "Train on 20391 samples, validate on 2834 samples\n",
      "Epoch 4/4\n",
      "20391/20391 [==============================] - 35s 2ms/step - loss: 0.6301 - acc: 0.7832 - val_loss: 0.6195 - val_acc: 0.7876\n",
      "Train on 20391 samples, validate on 2834 samples\n",
      "Epoch 5/5\n",
      "20391/20391 [==============================] - 35s 2ms/step - loss: 0.5686 - acc: 0.8065 - val_loss: 0.5859 - val_acc: 0.7957\n",
      "Train on 20391 samples, validate on 2834 samples\n",
      "Epoch 6/6\n",
      "20391/20391 [==============================] - 35s 2ms/step - loss: 0.5107 - acc: 0.8275 - val_loss: 0.5904 - val_acc: 0.8077\n",
      "Train on 20391 samples, validate on 2834 samples\n",
      "Epoch 7/7\n",
      "20391/20391 [==============================] - 35s 2ms/step - loss: 0.4809 - acc: 0.8374 - val_loss: 0.5652 - val_acc: 0.8158\n",
      "Train on 20391 samples, validate on 2834 samples\n",
      "Epoch 8/8\n",
      "20391/20391 [==============================] - 34s 2ms/step - loss: 0.4513 - acc: 0.8466 - val_loss: 0.5419 - val_acc: 0.8155\n",
      "Train on 20391 samples, validate on 2834 samples\n",
      "Epoch 9/9\n",
      "20391/20391 [==============================] - 34s 2ms/step - loss: 0.4211 - acc: 0.8565 - val_loss: 0.5403 - val_acc: 0.8229\n",
      "Train on 20391 samples, validate on 2834 samples\n",
      "Epoch 10/10\n",
      "20391/20391 [==============================] - 33s 2ms/step - loss: 0.4088 - acc: 0.8618 - val_loss: 0.5365 - val_acc: 0.8271\n",
      "Train on 20391 samples, validate on 2834 samples\n",
      "Epoch 11/11\n",
      "20391/20391 [==============================] - 34s 2ms/step - loss: 0.3870 - acc: 0.8688 - val_loss: 0.5202 - val_acc: 0.8285\n",
      "Train on 20391 samples, validate on 2834 samples\n",
      "Epoch 12/12\n",
      "20391/20391 [==============================] - 35s 2ms/step - loss: 0.3650 - acc: 0.8745 - val_loss: 0.5077 - val_acc: 0.8384\n",
      "Train on 20391 samples, validate on 2834 samples\n",
      "Epoch 13/13\n",
      "20391/20391 [==============================] - 35s 2ms/step - loss: 0.3467 - acc: 0.8837 - val_loss: 0.5143 - val_acc: 0.8338\n",
      "Train on 20391 samples, validate on 2834 samples\n",
      "Epoch 14/14\n",
      "20391/20391 [==============================] - 35s 2ms/step - loss: 0.3393 - acc: 0.8833 - val_loss: 0.5321 - val_acc: 0.8296\n",
      "Train on 20391 samples, validate on 2834 samples\n",
      "Epoch 15/15\n",
      "20391/20391 [==============================] - 35s 2ms/step - loss: 0.3252 - acc: 0.8891 - val_loss: 0.5010 - val_acc: 0.8430\n"
     ]
    }
   ],
   "source": [
    "for epoch in range(epochs):\n",
    "  model.fit(train_data_lstm, train_label,\n",
    "            batch_size=batch_size,\n",
    "            epochs=epoch+1,\n",
    "            initial_epoch=epoch,\n",
    "            verbose=1,\n",
    "            validation_data=(valid_data_lstm, valid_label),\n",
    "            callbacks=[csv_logger])"
   ]
  },
  {
   "cell_type": "code",
   "execution_count": 0,
   "metadata": {
    "colab": {
     "base_uri": "https://localhost:8080/",
     "height": 34
    },
    "colab_type": "code",
    "id": "bLxMVLVIocx8",
    "outputId": "f6c3d232-4ec4-4ef6-ff22-0acff53cbe67"
   },
   "outputs": [
    {
     "data": {
      "text/plain": [
       "Index(['epoch', 'acc', 'loss', 'val_acc', 'val_loss'], dtype='object')"
      ]
     },
     "execution_count": 44,
     "metadata": {
      "tags": []
     },
     "output_type": "execute_result"
    }
   ],
   "source": [
    "lstm_hist = pd.read_csv('lstm_log-16-noise.csv',sep=';')\n",
    "lstm_hist.columns"
   ]
  },
  {
   "cell_type": "code",
   "execution_count": 0,
   "metadata": {
    "colab": {
     "base_uri": "https://localhost:8080/",
     "height": 472
    },
    "colab_type": "code",
    "id": "IdmBjr5Nocx_",
    "outputId": "11701004-4c77-4852-b475-c7394bb08ba5"
   },
   "outputs": [
    {
     "data": {
      "image/png": "[encoded data removed]",
      "text/plain": [
       "<Figure size 640x480 with 1 Axes>"
      ]
     },
     "metadata": {
      "tags": []
     },
     "output_type": "display_data"
    }
   ],
   "source": [
    "plot_accuracy(lstm_hist.acc,lstm_hist.val_acc)"
   ]
  },
  {
   "cell_type": "markdown",
   "metadata": {
    "colab_type": "text",
    "id": "WYURSqrZy-fL"
   },
   "source": [
    "**Evaluate model on test data set**"
   ]
  },
  {
   "cell_type": "code",
   "execution_count": 0,
   "metadata": {
    "colab": {
     "base_uri": "https://localhost:8080/",
     "height": 50
    },
    "colab_type": "code",
    "id": "a7JEUkRytAOX",
    "outputId": "c062f321-e586-4bb8-d14a-728fca89060e"
   },
   "outputs": [
    {
     "name": "stdout",
     "output_type": "stream",
     "text": [
      "Test loss: 0.5687926592152887\n",
      "Test accuracy: 0.825008855890476\n"
     ]
    }
   ],
   "source": [
    "# Evaluation.\n",
    "scores = model.evaluate(test_data_lstm, test_label, verbose=0)\n",
    "print('Test loss:', scores[0])\n",
    "print('Test accuracy:', scores[1])"
   ]
  },
  {
   "cell_type": "markdown",
   "metadata": {
    "colab_type": "text",
    "id": "63i_fxmLyXjg"
   },
   "source": [
    "**Save keras model**"
   ]
  },
  {
   "cell_type": "code",
   "execution_count": 0,
   "metadata": {
    "colab": {
     "base_uri": "https://localhost:8080/",
     "height": 34
    },
    "colab_type": "code",
    "id": "CHYus6y4yJCB",
    "outputId": "8d986bde-7a56-4eff-a091-331a2438e347"
   },
   "outputs": [
    {
     "name": "stdout",
     "output_type": "stream",
     "text": [
      "Saved model to disk\n"
     ]
    }
   ],
   "source": [
    "# serialize model to JSON\n",
    "model_json = model.to_json()\n",
    "with open(\"./drive/My Drive/lstm_model_32.json\", \"w\") as json_file:\n",
    "    json_file.write(model_json)\n",
    "# serialize weights to HDF5\n",
    "model.save_weights(\"./drive/My Drive/lstm_model_32.h5\")\n",
    "print(\"Saved model to disk\")"
   ]
  },
  {
   "cell_type": "markdown",
   "metadata": {
    "colab_type": "text",
    "id": "gA4yLrbly6kJ"
   },
   "source": [
    "**Load keras model**"
   ]
  },
  {
   "cell_type": "code",
   "execution_count": 0,
   "metadata": {
    "colab": {
     "base_uri": "https://localhost:8080/",
     "height": 158
    },
    "colab_type": "code",
    "id": "RC0rBLtcyct8",
    "outputId": "e3740f52-e6fa-4ca4-ab22-c5499d96afe4"
   },
   "outputs": [
    {
     "name": "stdout",
     "output_type": "stream",
     "text": [
      "WARNING:tensorflow:From /usr/local/lib/python3.6/dist-packages/tensorflow/python/framework/op_def_library.py:263: colocate_with (from tensorflow.python.framework.ops) is deprecated and will be removed in a future version.\n",
      "Instructions for updating:\n",
      "Colocations handled automatically by placer.\n",
      "WARNING:tensorflow:From /usr/local/lib/python3.6/dist-packages/keras/backend/tensorflow_backend.py:3445: calling dropout (from tensorflow.python.ops.nn_ops) with keep_prob is deprecated and will be removed in a future version.\n",
      "Instructions for updating:\n",
      "Please use `rate` instead of `keep_prob`. Rate should be set to `rate = 1 - keep_prob`.\n",
      "Loaded model from disk\n"
     ]
    }
   ],
   "source": [
    "# load json and create model\n",
    "json_file = open('./drive/My Drive/lstm_model_32.json', 'r')\n",
    "loaded_model_json = json_file.read()\n",
    "json_file.close()\n",
    "loaded_model = model_from_json(loaded_model_json)\n",
    "# load weights into new model\n",
    "loaded_model.load_weights(\"./drive/My Drive/lstm_model_32.h5\")\n",
    "print(\"Loaded model from disk\")"
   ]
  },
  {
   "cell_type": "code",
   "execution_count": 0,
   "metadata": {
    "colab": {},
    "colab_type": "code",
    "id": "7hsRpFJ9zbHx"
   },
   "outputs": [],
   "source": [
    "test_data_lstm_pred = loaded_model.predict(test_data_lstm)"
   ]
  },
  {
   "cell_type": "code",
   "execution_count": 0,
   "metadata": {
    "colab": {
     "base_uri": "https://localhost:8080/",
     "height": 35
    },
    "colab_type": "code",
    "id": "MwMQZwH8y5t3",
    "outputId": "ec765930-55ac-431b-f3fd-7b6598d65596"
   },
   "outputs": [
    {
     "name": "stdout",
     "output_type": "stream",
     "text": [
      "acc: 89.13%\n"
     ]
    }
   ],
   "source": [
    "# evaluate loaded model on test data\n",
    "loaded_model.compile(loss='categorical_crossentropy', optimizer='rmsprop', metrics=['accuracy'])\n",
    "score = loaded_model.evaluate(test_data_lstm, test_label, verbose=0)\n",
    "print(\"%s: %.2f%%\" % (loaded_model.metrics_names[1], score[1]*100))"
   ]
  },
  {
   "cell_type": "code",
   "execution_count": 0,
   "metadata": {
    "colab": {},
    "colab_type": "code",
    "id": "A-gXzd07zUmt"
   },
   "outputs": [],
   "source": [
    "matrix = confusion_matrix(test_label.argmax(axis=1), test_data_lstm_pred.argmax(axis=1))"
   ]
  },
  {
   "cell_type": "code",
   "execution_count": 0,
   "metadata": {
    "colab": {
     "base_uri": "https://localhost:8080/",
     "height": 207
    },
    "colab_type": "code",
    "id": "JHDSivkbzqpv",
    "outputId": "d2e23cd4-2acc-42b5-ef02-02562adfde39"
   },
   "outputs": [
    {
     "data": {
      "text/plain": [
       "array([[229,   0,   0,   0,  11,   1,   0,   2,   0,   0,  13],\n",
       "       [  1, 231,   6,   2,   1,   2,   0,   1,   1,   3,   4],\n",
       "       [  0,   1, 260,   0,   2,   1,   2,   4,   0,   2,   0],\n",
       "       [  0,  14,   2, 216,   0,   1,   4,   1,   0,   8,   7],\n",
       "       [  6,   3,   5,   0, 247,   3,   0,   0,   0,   0,   3],\n",
       "       [  0,   0,   3,   2,   2, 232,   2,   0,   0,   1,  17],\n",
       "       [  0,   0,   4,   1,   3,   0, 233,   1,   1,   0,   3],\n",
       "       [  1,   1,  10,   0,   2,   0,   5, 237,   1,   1,   4],\n",
       "       [  0,   1,   4,   2,   1,   0,   0,   3, 236,   0,   2],\n",
       "       [  1,  23,   6,   5,   3,   0,   1,   1,   3, 208,   0],\n",
       "       [  1,   2,   3,   9,   4,  20,   8,   2,   6,  14, 187]])"
      ]
     },
     "execution_count": 34,
     "metadata": {
      "tags": []
     },
     "output_type": "execute_result"
    }
   ],
   "source": [
    "matrix"
   ]
  },
  {
   "cell_type": "code",
   "execution_count": 0,
   "metadata": {
    "colab": {
     "base_uri": "https://localhost:8080/",
     "height": 207
    },
    "colab_type": "code",
    "id": "jDlyEX2X4X2D",
    "outputId": "d82a021a-6c3f-4662-8e15-9c037d1a2026"
   },
   "outputs": [
    {
     "data": {
      "text/plain": [
       "['yes',\n",
       " 'no',\n",
       " 'up',\n",
       " 'down',\n",
       " 'left',\n",
       " 'right',\n",
       " 'on',\n",
       " 'off',\n",
       " 'stop',\n",
       " 'go',\n",
       " 'unknown']"
      ]
     },
     "execution_count": 35,
     "metadata": {
      "tags": []
     },
     "output_type": "execute_result"
    }
   ],
   "source": [
    "classes"
   ]
  },
  {
   "cell_type": "code",
   "execution_count": 0,
   "metadata": {
    "colab": {
     "base_uri": "https://localhost:8080/",
     "height": 893
    },
    "colab_type": "code",
    "id": "L7CkI-wj0stS",
    "outputId": "e98cf401-b07f-4a65-f4dd-85916391039b"
   },
   "outputs": [
    {
     "data": {
      "image/png": "[encoded data removed]",
      "text/plain": [
       "<Figure size 1000x1000 with 2 Axes>"
      ]
     },
     "metadata": {
      "tags": []
     },
     "output_type": "display_data"
    }
   ],
   "source": [
    "import seaborn as sns\n",
    "import matplotlib.pyplot as plt     \n",
    "plt.figure(figsize=(10,10))\n",
    "ax= plt.subplot()\n",
    "sns.heatmap(matrix, fmt=\"d\", annot=True, ax = ax, cmap=\"plasma\"); #annot=True to annotate cells\n",
    "\n",
    "# labels, title and ticks\n",
    "ax.set_xlabel('Predicted class');ax.set_ylabel('True class'); \n",
    "ax.set_title('Confusion matrix of test data set by LSTM model'); \n",
    "ax.xaxis.set_ticklabels(classes); ax.yaxis.set_ticklabels(classes);"
   ]
  }
 ],
 "metadata": {
  "accelerator": "GPU",
  "colab": {
   "collapsed_sections": [],
   "name": "Speech_Command_Recognition.ipynb",
   "provenance": [],
   "toc_visible": true,
   "version": "0.3.2"
  },
  "kernelspec": {
   "display_name": "Python 3",
   "language": "python",
   "name": "python3"
  },
  "language_info": {
   "codemirror_mode": {
    "name": "ipython",
    "version": 3
   },
   "file_extension": ".py",
   "mimetype": "text/x-python",
   "name": "python",
   "nbconvert_exporter": "python",
   "pygments_lexer": "ipython3",
   "version": "3.6.8"
  }
 },
 "nbformat": 4,
 "nbformat_minor": 1
}
